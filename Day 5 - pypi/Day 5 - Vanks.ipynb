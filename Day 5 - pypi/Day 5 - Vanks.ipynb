{
 "cells": [
  {
   "cell_type": "markdown",
   "metadata": {},
   "source": [
    "## https://pypi.org/project/vanks"
   ]
  },
  {
   "cell_type": "code",
   "execution_count": 1,
   "metadata": {},
   "outputs": [
    {
     "name": "stdout",
     "output_type": "stream",
     "text": [
      "Collecting anshika\n",
      "  Downloading anshika-0.0.1.tar.gz (1.5 kB)\n",
      "Building wheels for collected packages: anshika\n",
      "  Building wheel for anshika (setup.py): started\n",
      "  Building wheel for anshika (setup.py): finished with status 'done'\n",
      "  Created wheel for anshika: filename=anshika-0.0.1-py3-none-any.whl size=1752 sha256=2d6c02a831f8a233f1fa4a662816d06b4d2e99c654e16dbeae7983ee96b6502a\n",
      "  Stored in directory: c:\\users\\anshika rai\\appdata\\local\\pip\\cache\\wheels\\36\\a1\\07\\3f800d0524104cbade65d587ddb639c68cfe3837d4e9a3f66b\n",
      "Successfully built anshika\n",
      "Installing collected packages: anshika\n",
      "Successfully installed anshika-0.0.1\n"
     ]
    }
   ],
   "source": [
    "!pip install anshika"
   ]
  },
  {
   "cell_type": "code",
   "execution_count": 2,
   "metadata": {},
   "outputs": [
    {
     "name": "stdout",
     "output_type": "stream",
     "text": [
      "PYPI Profile : https://pypi.org/user/imvickykumar999/\n"
     ]
    }
   ],
   "source": [
    "from anshi import account as a"
   ]
  },
  {
   "cell_type": "code",
   "execution_count": 3,
   "metadata": {
    "scrolled": true
   },
   "outputs": [
    {
     "name": "stdout",
     "output_type": "stream",
     "text": [
      "Help on module anshi.account in anshi:\n",
      "\n",
      "NAME\n",
      "    anshi.account\n",
      "\n",
      "CLASSES\n",
      "    builtins.object\n",
      "        Bank_Account\n",
      "    \n",
      "    class Bank_Account(builtins.object)\n",
      "     |  Bank_Account(balance=0)\n",
      "     |  \n",
      "     |  Methods defined here:\n",
      "     |  \n",
      "     |  __init__(self, balance=0)\n",
      "     |      Initialize self.  See help(type(self)) for accurate signature.\n",
      "     |  \n",
      "     |  deposit(self, amount)\n",
      "     |  \n",
      "     |  display(self)\n",
      "     |  \n",
      "     |  withdraw(self, amount)\n",
      "     |  \n",
      "     |  ----------------------------------------------------------------------\n",
      "     |  Data descriptors defined here:\n",
      "     |  \n",
      "     |  __dict__\n",
      "     |      dictionary for instance variables (if defined)\n",
      "     |  \n",
      "     |  __weakref__\n",
      "     |      list of weak references to the object (if defined)\n",
      "\n",
      "FILE\n",
      "    c:\\users\\anshika rai\\downloads\\ideationology-lab-main\\ideationology-lab-main\\day 5 - pypi\\anshi\\account.py\n",
      "\n",
      "\n"
     ]
    }
   ],
   "source": [
    "help(a)"
   ]
  },
  {
   "cell_type": "code",
   "execution_count": 4,
   "metadata": {},
   "outputs": [
    {
     "name": "stdout",
     "output_type": "stream",
     "text": [
      "Hello!!! Welcome to the Deposit & Withdrawal Machine\n"
     ]
    },
    {
     "data": {
      "text/plain": [
       "<anshi.account.Bank_Account at 0x2708cba1e50>"
      ]
     },
     "execution_count": 4,
     "metadata": {},
     "output_type": "execute_result"
    }
   ],
   "source": [
    "obj = a.Bank_Account(7000)\n",
    "obj"
   ]
  },
  {
   "cell_type": "code",
   "execution_count": 5,
   "metadata": {},
   "outputs": [
    {
     "name": "stdout",
     "output_type": "stream",
     "text": [
      "\n",
      " Net Available Balance= 7000\n"
     ]
    }
   ],
   "source": [
    "obj.display()"
   ]
  },
  {
   "cell_type": "code",
   "execution_count": 6,
   "metadata": {},
   "outputs": [
    {
     "name": "stdout",
     "output_type": "stream",
     "text": [
      "\n",
      " You Withdrew: 3000\n"
     ]
    }
   ],
   "source": [
    "obj.withdraw(3000)"
   ]
  },
  {
   "cell_type": "code",
   "execution_count": 7,
   "metadata": {},
   "outputs": [
    {
     "name": "stdout",
     "output_type": "stream",
     "text": [
      "\n",
      " Net Available Balance= 4000\n"
     ]
    }
   ],
   "source": [
    "obj.display()"
   ]
  },
  {
   "cell_type": "code",
   "execution_count": 9,
   "metadata": {},
   "outputs": [
    {
     "name": "stdout",
     "output_type": "stream",
     "text": [
      "\n",
      " Amount Deposited: 1500\n"
     ]
    }
   ],
   "source": [
    "obj.deposit(1500)"
   ]
  },
  {
   "cell_type": "code",
   "execution_count": 10,
   "metadata": {},
   "outputs": [
    {
     "name": "stdout",
     "output_type": "stream",
     "text": [
      "\n",
      " Net Available Balance= 7000\n"
     ]
    }
   ],
   "source": [
    "obj.display()"
   ]
  },
  {
   "cell_type": "code",
   "execution_count": null,
   "metadata": {},
   "outputs": [],
   "source": []
  }
 ],
 "metadata": {
  "kernelspec": {
   "display_name": "Python 3",
   "language": "python",
   "name": "python3"
  },
  "language_info": {
   "codemirror_mode": {
    "name": "ipython",
    "version": 3
   },
   "file_extension": ".py",
   "mimetype": "text/x-python",
   "name": "python",
   "nbconvert_exporter": "python",
   "pygments_lexer": "ipython3",
   "version": "3.8.5"
  }
 },
 "nbformat": 4,
 "nbformat_minor": 4
}
